{
  "nbformat": 4,
  "nbformat_minor": 0,
  "metadata": {
    "colab": {
      "name": "Finance Python - Clas1",
      "provenance": [],
      "authorship_tag": "ABX9TyPqiw9C7FeXLj4fWtRb2HLN",
      "include_colab_link": true
    },
    "kernelspec": {
      "name": "python3",
      "display_name": "Python 3"
    },
    "language_info": {
      "name": "python"
    }
  },
  "cells": [
    {
      "cell_type": "markdown",
      "metadata": {
        "id": "view-in-github",
        "colab_type": "text"
      },
      "source": [
        "<a href=\"https://colab.research.google.com/github/J-Isaula/Catalogo-de-App-Shiny-R/blob/main/Finance_Python_Clas1.ipynb\" target=\"_parent\"><img src=\"https://colab.research.google.com/assets/colab-badge.svg\" alt=\"Open In Colab\"/></a>"
      ]
    },
    {
      "cell_type": "markdown",
      "source": [
        "**Session 1:** \n",
        "\n",
        "Test de Jarque-Bera aplicado a datos de mercado."
      ],
      "metadata": {
        "id": "83OGdz4fE2uc"
      }
    },
    {
      "cell_type": "code",
      "execution_count": 4,
      "metadata": {
        "id": "210mevJDEz9n"
      },
      "outputs": [],
      "source": [
        "# Librerias --------------------------------------------------------------\n",
        "\n",
        "import numpy as np\n",
        "import pandas as pd\n",
        "import matplotlib as mpl\n",
        "import scipy \n",
        "import importlib\n",
        "import matplotlib.pyplot as plt\n",
        "from scipy.stats import skew, kurtosis,chi2\n",
        "plt.style.use('ggplot') \n",
        "import seaborn as sns\n",
        "import yfinance as yf  # pip install -U --force-reinstall yfinance"
      ]
    },
    {
      "cell_type": "code",
      "source": [
        "# Extracion de los datos --- Fuente: Yahoo Finance\n",
        "start = \"1980-08-18\"\n",
        "end   = \"2022-08-18\"\n",
        "data  = yf.download(\"DBK.DE\",start, end)"
      ],
      "metadata": {
        "colab": {
          "base_uri": "https://localhost:8080/"
        },
        "id": "SjLDl8kvFa06",
        "outputId": "c274207b-6659-4bdd-bf54-74c098789957"
      },
      "execution_count": 5,
      "outputs": [
        {
          "output_type": "stream",
          "name": "stdout",
          "text": [
            "\r[*********************100%***********************]  1 of 1 completed\n"
          ]
        }
      ]
    },
    {
      "cell_type": "code",
      "source": [
        "# Anexamos a los datos, los rendimientos\n",
        "data[\"Close_previo\"]        = data[\"Close\"].shift(1)\n",
        "data[\"rendimientos_close\"]  = data[\"Close\"]/data[\"Close_previo\"]-1\n",
        "data                        = data.dropna()\n",
        "data"
      ],
      "metadata": {
        "id": "uYicb9VlGEWa"
      },
      "execution_count": null,
      "outputs": []
    },
    {
      "cell_type": "code",
      "source": [
        "# Plot de Precios \n",
        "plt.figure()\n",
        "plt.plot(data[\"Close\"])\n",
        "plt.xlabel(\"Tiempo\")\n",
        "plt.ylabel(\"Precio\")\n",
        "plt.show()"
      ],
      "metadata": {
        "colab": {
          "base_uri": "https://localhost:8080/",
          "height": 282
        },
        "id": "XIQ4hmQCG68U",
        "outputId": "3b10e5df-3f72-43a3-962c-7fe160dc4062"
      },
      "execution_count": 21,
      "outputs": [
        {
          "output_type": "display_data",
          "data": {
            "text/plain": [
              "<Figure size 432x288 with 1 Axes>"
            ],
            "image/png": "[encoded data removed]"
          },
          "metadata": {}
        }
      ]
    },
    {
      "cell_type": "code",
      "source": [
        "# Input para Test Jarque-Bera\n",
        "x     = data[\"rendimientos_close\"]\n",
        "x_tam = len(x)"
      ],
      "metadata": {
        "id": "-16hDm9HHP2K"
      },
      "execution_count": 22,
      "outputs": []
    },
    {
      "cell_type": "code",
      "source": [
        "# Computo \"Metricas de Riesgo\" \n",
        "x_mean    = np.mean(x)\n",
        "x_stdev   = np.std(x)\n",
        "x_skew    = skew(x)\n",
        "x_kurt    = kurtosis(x)\n",
        "x_sharpe  = x_mean/x_stdev*np.sqrt(252)\n",
        "x_var_95  = np.percentile(x,5) \n",
        "x_cvar_95 = np.mean(x[x <= x_var_95])\n",
        "x_JB      = x_tam/6*(x_skew**2 + 1/4*x_kurt**2)\n",
        "p_value   = 1 - chi2.cdf(x_JB,df = 2)\n",
        "is_normal = (p_value > 0.05)\n",
        "# "
      ],
      "metadata": {
        "id": "-u-7vIqDHpdy"
      },
      "execution_count": 23,
      "outputs": []
    },
    {
      "cell_type": "code",
      "source": [
        "# Output \"Metricas de Riesgo\"\n",
        "print('-----------------------------------------------')\n",
        "print('media: \\t\\t\\t'    + str(x_mean))\n",
        "print('std: \\t\\t\\t'      + str(x_stdev))\n",
        "print('skewness: \\t\\t'   + str(x_skew))\n",
        "print('kurtosis: \\t\\t'   + str(x_kurt))\n",
        "print('Cof_Sharpe: \\t\\t' + str(x_sharpe))\n",
        "print('VaR 95%: \\t\\t'    + str(x_var_95))\n",
        "print('CVarR 95%: \\t\\t'  + str(x_cvar_95))\n",
        "print('Jarque-Bera:\\t\\t' + str(x_JB))\n",
        "print('p-value: \\t\\t'    + str(p_value))\n",
        "print('Es_normal: \\t\\t'  + str(is_normal))\n",
        "print('-----------------------------------------------')"
      ],
      "metadata": {
        "colab": {
          "base_uri": "https://localhost:8080/"
        },
        "id": "_xW_7opdI5KC",
        "outputId": "bf35975f-fe7f-49bc-c4ce-b20be78685fe"
      },
      "execution_count": 24,
      "outputs": [
        {
          "output_type": "stream",
          "name": "stdout",
          "text": [
            "-----------------------------------------------\n",
            "media: \t\t\t0.00038828525791448473\n",
            "std: \t\t\t0.04067176536972503\n",
            "skewness: \t\t-2.7000527291982177\n",
            "kurtosis: \t\t18.1756429343783\n",
            "Cof_Sharpe: \t\t0.1515507705439804\n",
            "VaR 95%: \t\t-0.0750171763254364\n",
            "CVarR 95%: \t\t-0.1262272569927085\n",
            "Jarque-Bera:\t\t33839.36208562294\n",
            "p-value: \t\t0.0\n",
            "Es_normal: \t\tFalse\n",
            "-----------------------------------------------\n"
          ]
        }
      ]
    },
    {
      "cell_type": "code",
      "source": [
        "# Plot Histograma\n",
        "plt.figure()\n",
        "plt.hist(x,bins = 100)\n",
        "plt.title(\"Histograma de Mercado\")\n",
        "plt.show()"
      ],
      "metadata": {
        "colab": {
          "base_uri": "https://localhost:8080/",
          "height": 282
        },
        "id": "Jisq4KP0Jh8J",
        "outputId": "b9ccb72b-bed3-4018-92b5-dd179376664c"
      },
      "execution_count": 25,
      "outputs": [
        {
          "output_type": "display_data",
          "data": {
            "text/plain": [
              "<Figure size 432x288 with 1 Axes>"
            ],
            "image/png": "[encoded data removed]"
          },
          "metadata": {}
        }
      ]
    }
  ]
}